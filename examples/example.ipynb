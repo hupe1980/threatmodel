{
 "cells": [
  {
   "cell_type": "code",
   "execution_count": 1,
   "metadata": {},
   "outputs": [],
   "source": [
    "import os\n",
    "import sys\n",
    "\n",
    "sys.path.insert(0, os.path.abspath(os.path.join(os.path.abspath(\"\"), \"..\")))\n"
   ]
  },
  {
   "cell_type": "code",
   "execution_count": 2,
   "metadata": {},
   "outputs": [],
   "source": [
    "from tmac import (\n",
    "    Machine,\n",
    "    Model,\n",
    "    Process,\n",
    "    Protocol,\n",
    "    Score,\n",
    "    TableFormat,\n",
    "    Technology,\n",
    "    TrustBoundary,\n",
    ")  # noqa: E402\n",
    "from tmac.plus import Browser, Database  # noqa: E402\n"
   ]
  },
  {
   "attachments": {},
   "cell_type": "markdown",
   "metadata": {},
   "source": [
    "> Users must log in to the website before they can carry out any of the use cases."
   ]
  },
  {
   "cell_type": "code",
   "execution_count": 3,
   "metadata": {},
   "outputs": [],
   "source": [
    "model = Model(\"Demo Model\")\n"
   ]
  },
  {
   "cell_type": "code",
   "execution_count": 4,
   "metadata": {},
   "outputs": [],
   "source": [
    "internet = TrustBoundary(model, \"Internet\")\n",
    "dmz = TrustBoundary(model, \"DMZ\")\n",
    "intranet = TrustBoundary(model, \"Intranet\")\n"
   ]
  },
  {
   "cell_type": "code",
   "execution_count": 5,
   "metadata": {},
   "outputs": [],
   "source": [
    "browser = Browser(model, \"Browser\", trust_boundary=internet)\n"
   ]
  },
  {
   "cell_type": "code",
   "execution_count": 6,
   "metadata": {},
   "outputs": [],
   "source": [
    "web_server = Process(\n",
    "    model,\n",
    "    \"WebServer\",\n",
    "    technology=Technology.WEB_APPLICATION,\n",
    "    trust_boundary=dmz,\n",
    ")\n",
    "\n",
    "database = Database(\n",
    "    model,\n",
    "    \"Database\",\n",
    "    trust_boundary=intranet,\n",
    ")\n"
   ]
  },
  {
   "cell_type": "code",
   "execution_count": 7,
   "metadata": {},
   "outputs": [
    {
     "data": {
      "text/plain": [
       "<tmac.asset.Asset at 0x110e11b90>"
      ]
     },
     "execution_count": 7,
     "metadata": {},
     "output_type": "execute_result"
    }
   ],
   "source": [
    "web_traffic = browser.add_data_flow(\n",
    "    \"WebTraffic\",\n",
    "    destination=web_server,\n",
    "    protocol=Protocol.HTTPS,\n",
    ")\n",
    "\n",
    "web_traffic.transfers(\n",
    "    \"UserCredentials\",\n",
    "    confidentiality=Score.HIGH,\n",
    "    integrity=Score.HIGH,\n",
    "    availability=Score.HIGH,\n",
    ")\n"
   ]
  },
  {
   "cell_type": "code",
   "execution_count": 8,
   "metadata": {},
   "outputs": [
    {
     "data": {
      "text/plain": [
       "<tmac.asset.Asset at 0x111cacb50>"
      ]
     },
     "execution_count": 8,
     "metadata": {},
     "output_type": "execute_result"
    }
   ],
   "source": [
    "database_traffic = web_server.add_data_flow(\n",
    "    \"DatabaseTraffic\",\n",
    "    destination=database,\n",
    "    protocol=Protocol.SQL,\n",
    ")\n",
    "\n",
    "database_traffic.transfers(\n",
    "    \"UserDetails\",\n",
    "    confidentiality=Score.HIGH,\n",
    "    integrity=Score.HIGH,\n",
    "    availability=Score.HIGH,\n",
    ")\n"
   ]
  },
  {
   "cell_type": "code",
   "execution_count": 9,
   "metadata": {},
   "outputs": [
    {
     "name": "stdout",
     "output_type": "stream",
     "text": [
      "┌──────────────────────┬────────────────┬─────────────────────────────────────────────────────────────────────────────────┐\n",
      "│ ID                   │ Category       │ Risk                                                                            │\n",
      "├──────────────────────┼────────────────┼─────────────────────────────────────────────────────────────────────────────────┤\n",
      "│ CAPEC-62@WebServer@W │ Subvert Access │ Cross-Site Request Forgery (CSRF) risk at WebServer via WebTraffic from Browser │\n",
      "│ ebTraffic            │ Control        │                                                                                 │\n",
      "├──────────────────────┼────────────────┼─────────────────────────────────────────────────────────────────────────────────┤\n",
      "│ CAPEC-63@WebServer   │ Inject         │ Cross-Site Scripting (XSS) risk at WebServer                                    │\n",
      "│                      │ Unexpected     │                                                                                 │\n",
      "│                      │ Items          │                                                                                 │\n",
      "├──────────────────────┼────────────────┼─────────────────────────────────────────────────────────────────────────────────┤\n",
      "│ CAPEC-66@WebServer@D │ Inject         │ SQL Injection risk at WebServer against database Database via DatabaseTraffic   │\n",
      "│ atabaseTraffic       │ Unexpected     │                                                                                 │\n",
      "│                      │ Items          │                                                                                 │\n",
      "└──────────────────────┴────────────────┴─────────────────────────────────────────────────────────────────────────────────┘\n"
     ]
    }
   ],
   "source": [
    "print(model.create_risks_table())\n"
   ]
  },
  {
   "cell_type": "code",
   "execution_count": 10,
   "metadata": {},
   "outputs": [
    {
     "name": "stdout",
     "output_type": "stream",
     "text": [
      "┌──────────────────────┬─────────────────┬──────────────────────────────────────────────────────────────────────────────────┬─────────┐\n",
      "│ ID                   │ Category        │ User Story                                                                       │ State   │\n",
      "├──────────────────────┼─────────────────┼──────────────────────────────────────────────────────────────────────────────────┼─────────┤\n",
      "│ ASVS-13.2.3@CAPEC-62 │ RESTful Web     │ Verify that RESTful web services that utilize cookies are protected from Cross-  │ draft   │\n",
      "│ @WebServer@WebTraffi │ Service         │ Site Request Forgery via the use of at least one or more of the following:       │         │\n",
      "│ c                    │                 │ double submit cookie pattern, CSRF nonces, or Origin request header checks.      │         │\n",
      "├──────────────────────┼─────────────────┼──────────────────────────────────────────────────────────────────────────────────┼─────────┤\n",
      "│ ASVS-5.3.5@CAPEC-66@ │ Output Encoding │ Verify that where parameterized or safer mechanisms are not present, context-    │ draft   │\n",
      "│ WebServer@DatabaseTr │ and Injection   │ specific output encoding is used to protect against injection attacks, such as   │         │\n",
      "│ affic                │ Prevention      │ the use of SQL escaping to protect against SQL injection.                        │         │\n",
      "├──────────────────────┼─────────────────┼──────────────────────────────────────────────────────────────────────────────────┼─────────┤\n",
      "│ ASVS-1.2.3@CAPEC-62@ │ Authentication  │ Verify that the application uses a single vetted authentication mechanism that   │ draft   │\n",
      "│ WebServer@WebTraffic │ Architecture    │ is known to be secure, can be extended to include strong authentication, and has │         │\n",
      "│                      │                 │ sufficient logging and monitoring to detect account abuse or breaches.           │         │\n",
      "├──────────────────────┼─────────────────┼──────────────────────────────────────────────────────────────────────────────────┼─────────┤\n",
      "│ ASVS-4.3.3@CAPEC-62@ │ Other Access    │ Verify the application has additional authorization (such as step up or adaptive │ draft   │\n",
      "│ WebServer@WebTraffic │ Control         │ authentication) for lower value systems, and / or segregation of duties for high │         │\n",
      "│                      │ Considerations  │ value applications to enforce anti-fraud controls as per the risk of application │         │\n",
      "│                      │                 │ and past fraud.                                                                  │         │\n",
      "├──────────────────────┼─────────────────┼──────────────────────────────────────────────────────────────────────────────────┼─────────┤\n",
      "│ ASVS-14.5.4@CAPEC-62 │ HTTP Request    │ Verify that HTTP headers added by a trusted proxy or SSO devices, such as a      │ draft   │\n",
      "│ @WebServer@WebTraffi │ Header          │ bearer token, are authenticated by the application.                              │         │\n",
      "│ c                    │ Validation      │                                                                                  │         │\n",
      "├──────────────────────┼─────────────────┼──────────────────────────────────────────────────────────────────────────────────┼─────────┤\n",
      "│ ASVS-3.7.1@CAPEC-62@ │ Defenses        │ Verify the application ensures a full, valid login session or requires re-       │ draft   │\n",
      "│ WebServer@WebTraffic │ Against Session │ authentication or secondary verification before allowing any sensitive           │         │\n",
      "│                      │ Management      │ transactions or account modifications.                                           │         │\n",
      "│                      │ Exploits        │                                                                                  │         │\n",
      "├──────────────────────┼─────────────────┼──────────────────────────────────────────────────────────────────────────────────┼─────────┤\n",
      "│ ASVS-4.2.2@CAPEC-62@ │ Operation Level │ Verify that the application or framework enforces a strong anti-CSRF mechanism   │ draft   │\n",
      "│ WebServer@WebTraffic │ Access Control  │ to protect authenticated functionality, and effective anti-automation or anti-   │         │\n",
      "│                      │                 │ CSRF protects unauthenticated functionality.                                     │         │\n",
      "├──────────────────────┼─────────────────┼──────────────────────────────────────────────────────────────────────────────────┼─────────┤\n",
      "│ ASVS-3.4.3@CAPEC-62@ │ Cookie-based    │ Verify that cookie-based session tokens utilize the 'SameSite' attribute to      │ draft   │\n",
      "│ WebServer@WebTraffic │ Session         │ limit exposure to cross-site request forgery attacks.                            │         │\n",
      "│                      │ Management      │                                                                                  │         │\n",
      "├──────────────────────┼─────────────────┼──────────────────────────────────────────────────────────────────────────────────┼─────────┤\n",
      "│ ASVS-5.3.3@CAPEC-63@ │ Output Encoding │ Verify that context-aware, preferably automated - or at worst, manual - output   │ draft   │\n",
      "│ WebServer            │ and Injection   │ escaping protects against reflected, stored, and DOM based XSS.                  │         │\n",
      "│                      │ Prevention      │                                                                                  │         │\n",
      "├──────────────────────┼─────────────────┼──────────────────────────────────────────────────────────────────────────────────┼─────────┤\n",
      "│ ASVS-5.3.4@CAPEC-66@ │ Output Encoding │ Verify that data selection or database queries (e.g. SQL, HQL, ORM, NoSQL) use   │ draft   │\n",
      "│ WebServer@DatabaseTr │ and Injection   │ parameterized queries, ORMs, entity frameworks, or are otherwise protected from  │         │\n",
      "│ affic                │ Prevention      │ database injection attacks.                                                      │         │\n",
      "├──────────────────────┼─────────────────┼──────────────────────────────────────────────────────────────────────────────────┼─────────┤\n",
      "│ ASVS-1.2.2@CAPEC-62@ │ Authentication  │ Verify that communications between application components, including APIs,       │ draft   │\n",
      "│ WebServer@WebTraffic │ Architecture    │ middleware and data layers, are authenticated. Components should have the least  │         │\n",
      "│                      │                 │ necessary privileges needed.                                                     │         │\n",
      "├──────────────────────┼─────────────────┼──────────────────────────────────────────────────────────────────────────────────┼─────────┤\n",
      "│ ASVS-1.2.4@CAPEC-62@ │ Authentication  │ Verify that all authentication pathways and identity management APIs implement   │ draft   │\n",
      "│ WebServer@WebTraffic │ Architecture    │ consistent authentication security control strength, such that there are no      │         │\n",
      "│                      │                 │ weaker alternatives per the risk of the application.                             │         │\n",
      "├──────────────────────┼─────────────────┼──────────────────────────────────────────────────────────────────────────────────┼─────────┤\n",
      "│ ASVS-5.1.3@CAPEC-63@ │ Input           │ Verify that all input (HTML form fields, REST requests, URL parameters, HTTP     │ draft   │\n",
      "│ WebServer            │ Validation      │ headers, cookies, batch files, RSS feeds, etc) is validated using positive       │         │\n",
      "│                      │                 │ validation (allow lists).                                                        │         │\n",
      "├──────────────────────┼─────────────────┼──────────────────────────────────────────────────────────────────────────────────┼─────────┤\n",
      "│ ASVS-5.1.4@CAPEC-63@ │ Input           │ Verify that structured data is strongly typed and validated against a defined    │ draft   │\n",
      "│ WebServer            │ Validation      │ schema including allowed characters, length and pattern (e.g. credit card        │         │\n",
      "│                      │                 │ numbers, e-mail addresses, telephone numbers, or validating that two related     │         │\n",
      "│                      │                 │ fields are reasonable, such as checking that suburb and zip/postcode match).     │         │\n",
      "└──────────────────────┴─────────────────┴──────────────────────────────────────────────────────────────────────────────────┴─────────┘\n"
     ]
    }
   ],
   "source": [
    "print(model.create_backlog_table())\n"
   ]
  },
  {
   "cell_type": "code",
   "execution_count": 11,
   "metadata": {},
   "outputs": [
    {
     "name": "stderr",
     "output_type": "stream",
     "text": [
      "Warning: Orthogonal edges do not currently handle edge labels. Try using xlabels.\n"
     ]
    },
    {
     "data": {
      "image/png": "[encoded data removed]",
      "text/plain": [
       "<diagrams.Diagram at 0x111cada90>"
      ]
     },
     "metadata": {},
     "output_type": "display_data"
    }
   ],
   "source": [
    "model.create_data_flow_diagram()\n"
   ]
  }
 ],
 "metadata": {
  "kernelspec": {
   "display_name": "tmac-4til2r-3-py3.11",
   "language": "python",
   "name": "python3"
  },
  "language_info": {
   "codemirror_mode": {
    "name": "ipython",
    "version": 3
   },
   "file_extension": ".py",
   "mimetype": "text/x-python",
   "name": "python",
   "nbconvert_exporter": "python",
   "pygments_lexer": "ipython3",
   "version": "3.11.1"
  },
  "orig_nbformat": 4,
  "vscode": {
   "interpreter": {
    "hash": "6199eb8b9a41ffe137bfa6a40a343222494632bfe2374eb6ab4970ae19337241"
   }
  }
 },
 "nbformat": 4,
 "nbformat_minor": 2
}
