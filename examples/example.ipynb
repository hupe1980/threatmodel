{
 "cells": [
  {
   "cell_type": "code",
   "execution_count": 1,
   "metadata": {},
   "outputs": [],
   "source": [
    "import os\n",
    "import sys\n",
    "\n",
    "sys.path.insert(0, os.path.abspath(os.path.join(os.path.abspath(''), '..')))"
   ]
  },
  {
   "cell_type": "code",
   "execution_count": 2,
   "metadata": {},
   "outputs": [],
   "source": [
    "import threatmodel as tm\n",
    "import threatmodel.plus as tm_plus"
   ]
  },
  {
   "attachments": {},
   "cell_type": "markdown",
   "metadata": {},
   "source": [
    "> Users must log in to the website before they can carry out any of the use cases."
   ]
  },
  {
   "cell_type": "code",
   "execution_count": 3,
   "metadata": {},
   "outputs": [],
   "source": [
    "model = tm.Model(\"Login Model\")\n",
    "user = tm_plus.Browser(model, \"User\")"
   ]
  },
  {
   "cell_type": "code",
   "execution_count": 4,
   "metadata": {},
   "outputs": [
    {
     "data": {
      "text/plain": [
       "<threatmodel.asset.Asset at 0x1082166e0>"
      ]
     },
     "execution_count": 4,
     "metadata": {},
     "output_type": "execute_result"
    }
   ],
   "source": [
    "web_server = tm.Process(\n",
    "    model, \"WebServer\",\n",
    "    machine=tm.Machine.VIRTUAL,\n",
    "    technology=tm.Technology.WEB_APPLICATION,\n",
    ")\n",
    "\n",
    "login = tm.DataFlow(\n",
    "    model, \"Login\",\n",
    "    source=user,\n",
    "    destination=web_server,\n",
    "    protocol=tm.Protocol.HTTPS,\n",
    ")\n",
    "\n",
    "login.transfers(\n",
    "    \"UserCredentials\",\n",
    "    confidentiality=tm.Score.HIGH,\n",
    "    integrity=tm.Score.HIGH,\n",
    "    availability=tm.Score.HIGH,\n",
    ")"
   ]
  },
  {
   "cell_type": "code",
   "execution_count": 5,
   "metadata": {},
   "outputs": [
    {
     "data": {
      "text/plain": [
       "<threatmodel.asset.Asset at 0x108217070>"
      ]
     },
     "execution_count": 5,
     "metadata": {},
     "output_type": "execute_result"
    }
   ],
   "source": [
    "database = tm.DataStore(\n",
    "    model, \"Database\",\n",
    "    machine=tm.Machine.VIRTUAL,\n",
    "    technology=tm.Technology.DATABASE,\n",
    ")\n",
    "\n",
    "authenticate = tm.DataFlow(\n",
    "    model, \"Authenticate\",\n",
    "    source=web_server,\n",
    "    destination=database,\n",
    "    protocol=tm.Protocol.SQL,\n",
    ")\n",
    "\n",
    "user_details = tm.Asset(\n",
    "    model, \"UserDetails\",\n",
    "    confidentiality=tm.Score.HIGH,\n",
    "    integrity=tm.Score.HIGH,\n",
    "    availability=tm.Score.HIGH,\n",
    ")\n",
    "\n",
    "authenticate.transfers(user_details)"
   ]
  },
  {
   "cell_type": "code",
   "execution_count": 6,
   "metadata": {},
   "outputs": [
    {
     "name": "stdout",
     "output_type": "stream",
     "text": [
      "SID                  Severity    Category                    Threat                               Affected    Treatment\n",
      "-------------------  ----------  --------------------------  -----------------------------------  ----------  -----------\n",
      "CAPEC-63@WebServer   elevated    Inject Unexpected Items     Cross-Site Scripting (XSS)           WebServer   unchecked\n",
      "CAPEC-100@WebServer  high        Manipulate Data Structures  Overflow Buffers                     WebServer   unchecked\n",
      "CAPEC-101@WebServer  elevated    Inject Unexpected Items     Server Side Include (SSI) Injection  WebServer   unchecked\n",
      "CAPEC-62@WebServer   elevated    Subvert Access Control      Cross Site Request Forgery           WebServer   unchecked\n",
      "CAPEC-66@WebServer   elevated    Inject Unexpected Items     SQL Injection                        WebServer   unchecked\n"
     ]
    }
   ],
   "source": [
    "print(model.risks_table())"
   ]
  },
  {
   "attachments": {},
   "cell_type": "markdown",
   "metadata": {},
   "source": [
    "> Is there a suitable mitigation?"
   ]
  },
  {
   "cell_type": "code",
   "execution_count": 7,
   "metadata": {},
   "outputs": [
    {
     "name": "stdout",
     "output_type": "stream",
     "text": [
      "CAPEC-63: Cross-Site Scripting (XSS)\n",
      "\n",
      "Description:\n",
      "An adversary embeds malicious scripts in content that will be served to web browsers. The goal of the attack is for the target software, the client-side browser, to execute the script with the users' privilege level. An attack of this type exploits a programs' vulnerabilities that are brought on by allowing remote hosts to execute code and scripts. Web browsers, for example, have some simple security controls in place, but if a remote attacker is allowed to execute scripts (through injecting them in to user-generated content like bulletin boards) then these controls may be bypassed. Further, these attacks are very difficult for an end user to detect.\n",
      "\n",
      "Prerequisites:\n",
      "- Target client software must be a client that allows scripting communication from remote hosts, such as a JavaScript-enabled Web Browser.\n",
      "\n",
      "Mitigations:\n",
      "- Design: Use browser technologies that do not allow client side scripting.\n",
      "- Design: Utilize strict type, character, and encoding enforcement.\n",
      "- Design: Server side developers should not proxy content via XHR or other means, if a http proxy for remote content is setup on the server side, the client's browser has no way of discerning where the data is originating from.\n",
      "- Implementation: Ensure all content that is delivered to client is sanitized against an acceptable content specification.\n",
      "- Implementation: Perform input validation for all remote content.\n",
      "- Implementation: Perform output validation for all remote content.\n",
      "- Implementation: Session tokens for specific host.\n",
      "- Implementation: Patching software. There are many attack vectors for XSS on the client side and the server side. Many vulnerabilities are fixed in service packs for browser, web servers, and plug in technologies, staying current on patch release that deal with XSS countermeasures mitigates this.\n",
      "\n"
     ]
    }
   ],
   "source": [
    "print(model.get_threat_by_id(\"CAPEC-63\"))"
   ]
  },
  {
   "attachments": {},
   "cell_type": "markdown",
   "metadata": {},
   "source": [
    "> Can we mitigate the risk?"
   ]
  },
  {
   "cell_type": "code",
   "execution_count": 8,
   "metadata": {},
   "outputs": [
    {
     "data": {
      "text/plain": [
       "<threatmodel.mitigation.Mitigation at 0x108215690>"
      ]
     },
     "execution_count": 8,
     "metadata": {},
     "output_type": "execute_result"
    }
   ],
   "source": [
    "model.mitigate_risk(\"CAPEC-63@WebServer\", name=\"InputValidation\", risk_reduction=80)\n",
    "model.mitigate_risk(\"CAPEC-63@WebServer\", name=\"InputSanitizing\", risk_reduction=80)"
   ]
  },
  {
   "attachments": {},
   "cell_type": "markdown",
   "metadata": {},
   "source": [
    "> After many long meetings, we decided to accept a risk :)"
   ]
  },
  {
   "cell_type": "code",
   "execution_count": 9,
   "metadata": {},
   "outputs": [
    {
     "name": "stdout",
     "output_type": "stream",
     "text": [
      "SID                  Severity    Category                    Threat                               Affected    Treatment\n",
      "-------------------  ----------  --------------------------  -----------------------------------  ----------  -----------\n",
      "CAPEC-63@WebServer   elevated    Inject Unexpected Items     Cross-Site Scripting (XSS)           WebServer   mitigated\n",
      "CAPEC-100@WebServer  high        Manipulate Data Structures  Overflow Buffers                     WebServer   accepted\n",
      "CAPEC-101@WebServer  elevated    Inject Unexpected Items     Server Side Include (SSI) Injection  WebServer   unchecked\n",
      "CAPEC-62@WebServer   elevated    Subvert Access Control      Cross Site Request Forgery           WebServer   unchecked\n",
      "CAPEC-66@WebServer   elevated    Inject Unexpected Items     SQL Injection                        WebServer   unchecked\n"
     ]
    }
   ],
   "source": [
    "model.accept_risk(\"CAPEC-100@WebServer\")\n",
    "\n",
    "print(model.risks_table())"
   ]
  },
  {
   "cell_type": "code",
   "execution_count": 10,
   "metadata": {},
   "outputs": [
    {
     "data": {
      "image/svg+xml": "<?xml version=\"1.0\" encoding=\"UTF-8\" standalone=\"no\"?>\n<!DOCTYPE svg PUBLIC \"-//W3C//DTD SVG 1.1//EN\"\n \"http://www.w3.org/Graphics/SVG/1.1/DTD/svg11.dtd\">\n<!-- Generated by graphviz version 7.0.4 (20221203.1631)\n -->\n<!-- Title: Login Model Pages: 1 -->\n<svg width=\"144pt\" height=\"193pt\"\n viewBox=\"0.00 0.00 144.00 193.00\" xmlns=\"http://www.w3.org/2000/svg\" xmlns:xlink=\"http://www.w3.org/1999/xlink\">\n<g id=\"graph0\" class=\"graph\" transform=\"scale(1 1) rotate(0) translate(4 189)\">\n<title>Login Model</title>\n<polygon fill=\"white\" stroke=\"none\" points=\"-4,4 -4,-189 140,-189 140,4 -4,4\"/>\n<!-- User_f486f448 -->\n<g id=\"node1\" class=\"node\">\n<title>User_f486f448</title>\n<polygon fill=\"none\" stroke=\"black\" points=\"54.48,-185.49 0.48,-185.49 0.48,-149.49 54.48,-149.49 54.48,-185.49\"/>\n<text text-anchor=\"middle\" x=\"27.48\" y=\"-164.39\" font-family=\"Arial\" font-size=\"12.00\">User</text>\n</g>\n<!-- WebServer_9bb0751f -->\n<g id=\"node2\" class=\"node\">\n<title>WebServer_9bb0751f</title>\n<ellipse fill=\"none\" stroke=\"black\" cx=\"97.13\" cy=\"-118.28\" rx=\"34.8\" ry=\"34.8\"/>\n<text text-anchor=\"middle\" x=\"97.13\" y=\"-115.18\" font-family=\"Arial\" font-size=\"12.00\">WebServer</text>\n</g>\n<!-- Database_5c3310a5 -->\n<g id=\"node3\" class=\"node\">\n<title>Database_5c3310a5</title>\n<path fill=\"none\" stroke=\"black\" d=\"M135.75,-32.27C135.75,-34.08 123.65,-35.54 108.75,-35.54 93.85,-35.54 81.75,-34.08 81.75,-32.27 81.75,-32.27 81.75,-2.82 81.75,-2.82 81.75,-1.01 93.85,0.46 108.75,0.46 123.65,0.46 135.75,-1.01 135.75,-2.82 135.75,-2.82 135.75,-32.27 135.75,-32.27\"/>\n<path fill=\"none\" stroke=\"black\" d=\"M135.75,-32.27C135.75,-30.47 123.65,-29 108.75,-29 93.85,-29 81.75,-30.47 81.75,-32.27\"/>\n<text text-anchor=\"middle\" x=\"108.75\" y=\"-14.44\" font-family=\"Arial\" font-size=\"12.00\">Database</text>\n</g>\n<!-- User_f486f448&#45;&gt;WebServer_9bb0751f -->\n<g id=\"edge1\" class=\"edge\">\n<title>User_f486f448&#45;&gt;WebServer_9bb0751f</title>\n<path fill=\"none\" stroke=\"black\" d=\"M53.41,-149.17C56.66,-146.87 60.02,-144.5 63.37,-142.14\"/>\n<polygon fill=\"black\" stroke=\"black\" points=\"64.29,-143.63 67.36,-139.31 62.27,-140.77 64.29,-143.63\"/>\n<text text-anchor=\"middle\" x=\"37.39\" y=\"-139.25\" font-family=\"Arial\" font-size=\"8.00\">https: Login</text>\n</g>\n<!-- WebServer_9bb0751f&#45;&gt;Database_5c3310a5 -->\n<g id=\"edge2\" class=\"edge\">\n<title>WebServer_9bb0751f&#45;&gt;Database_5c3310a5</title>\n<path fill=\"none\" stroke=\"black\" d=\"M101.16,-83.33C102.73,-69.78 104.48,-54.58 105.9,-42.21\"/>\n<polygon fill=\"black\" stroke=\"black\" points=\"107.61,-42.7 106.44,-37.53 104.13,-42.3 107.61,-42.7\"/>\n<text text-anchor=\"middle\" x=\"74.53\" y=\"-65.37\" font-family=\"Arial\" font-size=\"8.00\">sql: Authenticate</text>\n</g>\n</g>\n</svg>\n",
      "text/plain": [
       "<threatmodel.diagram.DataFlowDiagram at 0x108216920>"
      ]
     },
     "metadata": {},
     "output_type": "display_data"
    }
   ],
   "source": [
    "model.data_flow_diagram()"
   ]
  }
 ],
 "metadata": {
  "kernelspec": {
   "display_name": ".venv",
   "language": "python",
   "name": "python3"
  },
  "language_info": {
   "codemirror_mode": {
    "name": "ipython",
    "version": 3
   },
   "file_extension": ".py",
   "mimetype": "text/x-python",
   "name": "python",
   "nbconvert_exporter": "python",
   "pygments_lexer": "ipython3",
   "version": "3.10.9"
  },
  "orig_nbformat": 4,
  "vscode": {
   "interpreter": {
    "hash": "c789a8413cac1a531e001c4f39271cee306d8569d2a93fa67c86585ca2dbb66a"
   }
  }
 },
 "nbformat": 4,
 "nbformat_minor": 2
}
