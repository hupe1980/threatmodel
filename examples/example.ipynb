{
 "cells": [
  {
   "cell_type": "code",
   "execution_count": 11,
   "metadata": {},
   "outputs": [],
   "source": [
    "import os\n",
    "import sys\n",
    "\n",
    "sys.path.insert(0, os.path.abspath(os.path.join(os.path.abspath(\"\"), \"..\")))\n"
   ]
  },
  {
   "cell_type": "code",
   "execution_count": 12,
   "metadata": {},
   "outputs": [],
   "source": [
    "from tmac import (\n",
    "    Asset,\n",
    "    DataFlow,\n",
    "    DataStore,\n",
    "    Machine,\n",
    "    Model,\n",
    "    Process,\n",
    "    Protocol,\n",
    "    Score,\n",
    "    TableFormat,\n",
    "    Technology,\n",
    ")  # noqa: E402\n",
    "from tmac.plus import Browser  # noqa: E402\n"
   ]
  },
  {
   "attachments": {},
   "cell_type": "markdown",
   "metadata": {},
   "source": [
    "> Users must log in to the website before they can carry out any of the use cases."
   ]
  },
  {
   "cell_type": "code",
   "execution_count": 13,
   "metadata": {},
   "outputs": [],
   "source": [
    "model = Model(\"Login Model\")\n",
    "user = Browser(model, \"User\")\n"
   ]
  },
  {
   "cell_type": "code",
   "execution_count": 14,
   "metadata": {},
   "outputs": [
    {
     "data": {
      "text/plain": [
       "<tmac.asset.Asset at 0x110815390>"
      ]
     },
     "execution_count": 14,
     "metadata": {},
     "output_type": "execute_result"
    }
   ],
   "source": [
    "web_server = Process(\n",
    "    model,\n",
    "    \"WebServer\",\n",
    "    machine=Machine.VIRTUAL,\n",
    "    technology=Technology.WEB_APPLICATION,\n",
    ")\n",
    "\n",
    "login = DataFlow(\n",
    "    model,\n",
    "    \"Login\",\n",
    "    source=user,\n",
    "    destination=web_server,\n",
    "    protocol=Protocol.HTTPS,\n",
    ")\n",
    "\n",
    "login.transfers(\n",
    "    \"UserCredentials\",\n",
    "    confidentiality=Score.HIGH,\n",
    "    integrity=Score.HIGH,\n",
    "    availability=Score.HIGH,\n",
    ")\n"
   ]
  },
  {
   "cell_type": "code",
   "execution_count": 15,
   "metadata": {},
   "outputs": [
    {
     "data": {
      "text/plain": [
       "<tmac.asset.Asset at 0x110815b10>"
      ]
     },
     "execution_count": 15,
     "metadata": {},
     "output_type": "execute_result"
    }
   ],
   "source": [
    "database = DataStore(\n",
    "    model,\n",
    "    \"Database\",\n",
    "    machine=Machine.VIRTUAL,\n",
    "    technology=Technology.DATABASE,\n",
    ")\n",
    "\n",
    "authenticate = DataFlow(\n",
    "    model,\n",
    "    \"Authenticate\",\n",
    "    source=web_server,\n",
    "    destination=database,\n",
    "    protocol=Protocol.SQL,\n",
    ")\n",
    "\n",
    "user_details = Asset(\n",
    "    model,\n",
    "    \"UserDetails\",\n",
    "    confidentiality=Score.HIGH,\n",
    "    integrity=Score.HIGH,\n",
    "    availability=Score.HIGH,\n",
    ")\n",
    "\n",
    "authenticate.transfers(user_details)\n"
   ]
  },
  {
   "cell_type": "code",
   "execution_count": 16,
   "metadata": {},
   "outputs": [
    {
     "name": "stdout",
     "output_type": "stream",
     "text": [
      "SID                  Severity    Category                    Threat                               Affected    Treatment\n",
      "-------------------  ----------  --------------------------  -----------------------------------  ----------  -----------\n",
      "CAPEC-63@WebServer   elevated    Inject Unexpected Items     Cross-Site Scripting (XSS)           WebServer   unchecked\n",
      "CAPEC-100@WebServer  high        Manipulate Data Structures  Overflow Buffers                     WebServer   unchecked\n",
      "CAPEC-101@WebServer  elevated    Inject Unexpected Items     Server Side Include (SSI) Injection  WebServer   unchecked\n",
      "CAPEC-62@WebServer   elevated    Subvert Access Control      Cross Site Request Forgery           WebServer   unchecked\n",
      "CAPEC-66@WebServer   elevated    Inject Unexpected Items     SQL Injection                        WebServer   unchecked\n"
     ]
    }
   ],
   "source": [
    "print(model.risks_table())\n"
   ]
  },
  {
   "attachments": {},
   "cell_type": "markdown",
   "metadata": {},
   "source": [
    "> Is there a suitable mitigation?"
   ]
  },
  {
   "cell_type": "code",
   "execution_count": 17,
   "metadata": {},
   "outputs": [
    {
     "name": "stdout",
     "output_type": "stream",
     "text": [
      "CAPEC-63: Cross-Site Scripting (XSS)\n",
      "\n",
      "Description:\n",
      "An adversary embeds malicious scripts in content that will be served to web browsers. The goal of the attack is for the target software, the client-side browser, to execute the script with the users' privilege level. An attack of this type exploits a programs' vulnerabilities that are brought on by allowing remote hosts to execute code and scripts. Web browsers, for example, have some simple security controls in place, but if a remote attacker is allowed to execute scripts (through injecting them in to user-generated content like bulletin boards) then these controls may be bypassed. Further, these attacks are very difficult for an end user to detect.\n",
      "\n",
      "Prerequisites:\n",
      "- Target client software must be a client that allows scripting communication from remote hosts, such as a JavaScript-enabled Web Browser.\n",
      "\n",
      "Mitigations:\n",
      "- Design: Use browser technologies that do not allow client side scripting.\n",
      "- Design: Utilize strict type, character, and encoding enforcement.\n",
      "- Design: Server side developers should not proxy content via XHR or other means, if a http proxy for remote content is setup on the server side, the client's browser has no way of discerning where the data is originating from.\n",
      "- Implementation: Ensure all content that is delivered to client is sanitized against an acceptable content specification.\n",
      "- Implementation: Perform input validation for all remote content.\n",
      "- Implementation: Perform output validation for all remote content.\n",
      "- Implementation: Session tokens for specific host.\n",
      "- Implementation: Patching software. There are many attack vectors for XSS on the client side and the server side. Many vulnerabilities are fixed in service packs for browser, web servers, and plug in technologies, staying current on patch release that deal with XSS countermeasures mitigates this.\n",
      "\n"
     ]
    }
   ],
   "source": [
    "print(model.get_threat_by_id(\"CAPEC-63\"))\n"
   ]
  },
  {
   "attachments": {},
   "cell_type": "markdown",
   "metadata": {},
   "source": [
    "> Can we mitigate the risk?"
   ]
  },
  {
   "cell_type": "code",
   "execution_count": 18,
   "metadata": {},
   "outputs": [
    {
     "data": {
      "text/plain": [
       "<tmac.mitigation.Mitigation at 0x11080ae50>"
      ]
     },
     "execution_count": 18,
     "metadata": {},
     "output_type": "execute_result"
    }
   ],
   "source": [
    "model.mitigate_risk(\"CAPEC-63@WebServer\", name=\"InputValidation\", risk_reduction=80)\n",
    "model.mitigate_risk(\"CAPEC-63@WebServer\", name=\"InputSanitizing\", risk_reduction=80)\n"
   ]
  },
  {
   "attachments": {},
   "cell_type": "markdown",
   "metadata": {},
   "source": [
    "> After many long meetings, we decided to accept a risk :)"
   ]
  },
  {
   "cell_type": "code",
   "execution_count": 19,
   "metadata": {},
   "outputs": [
    {
     "name": "stdout",
     "output_type": "stream",
     "text": [
      "SID                  Severity    Category                    Threat                               Affected    Treatment\n",
      "-------------------  ----------  --------------------------  -----------------------------------  ----------  -----------\n",
      "CAPEC-63@WebServer   elevated    Inject Unexpected Items     Cross-Site Scripting (XSS)           WebServer   mitigated\n",
      "CAPEC-100@WebServer  high        Manipulate Data Structures  Overflow Buffers                     WebServer   accepted\n",
      "CAPEC-101@WebServer  elevated    Inject Unexpected Items     Server Side Include (SSI) Injection  WebServer   unchecked\n",
      "CAPEC-62@WebServer   elevated    Subvert Access Control      Cross Site Request Forgery           WebServer   unchecked\n",
      "CAPEC-66@WebServer   elevated    Inject Unexpected Items     SQL Injection                        WebServer   unchecked\n"
     ]
    }
   ],
   "source": [
    "model.accept_risk(\"CAPEC-100@WebServer\")\n",
    "\n",
    "print(model.risks_table())\n"
   ]
  },
  {
   "cell_type": "code",
   "execution_count": 20,
   "metadata": {},
   "outputs": [
    {
     "data": {
      "image/svg+xml": "<?xml version=\"1.0\" encoding=\"UTF-8\" standalone=\"no\"?>\n<!DOCTYPE svg PUBLIC \"-//W3C//DTD SVG 1.1//EN\"\n \"http://www.w3.org/Graphics/SVG/1.1/DTD/svg11.dtd\">\n<!-- Generated by graphviz version 7.0.5 (20221223.1930)\n -->\n<!-- Title: Login Model Pages: 1 -->\n<svg width=\"144pt\" height=\"193pt\"\n viewBox=\"0.00 0.00 144.00 193.00\" xmlns=\"http://www.w3.org/2000/svg\" xmlns:xlink=\"http://www.w3.org/1999/xlink\">\n<g id=\"graph0\" class=\"graph\" transform=\"scale(1 1) rotate(0) translate(4 189)\">\n<title>Login Model</title>\n<polygon fill=\"white\" stroke=\"none\" points=\"-4,4 -4,-189 140,-189 140,4 -4,4\"/>\n<!-- user&#45;0&#45;f2&#45;f9240 -->\n<g id=\"node1\" class=\"node\">\n<title>user&#45;0&#45;f2&#45;f9240</title>\n<polygon fill=\"none\" stroke=\"black\" points=\"54.48,-185.49 0.48,-185.49 0.48,-149.49 54.48,-149.49 54.48,-185.49\"/>\n<text text-anchor=\"middle\" x=\"27.48\" y=\"-164.39\" font-family=\"Arial\" font-size=\"12.00\">User</text>\n</g>\n<!-- web&#45;server&#45;83&#45;b6&#45;abfd -->\n<g id=\"node2\" class=\"node\">\n<title>web&#45;server&#45;83&#45;b6&#45;abfd</title>\n<ellipse fill=\"none\" stroke=\"black\" cx=\"97.13\" cy=\"-118.28\" rx=\"34.8\" ry=\"34.8\"/>\n<text text-anchor=\"middle\" x=\"97.13\" y=\"-115.18\" font-family=\"Arial\" font-size=\"12.00\">WebServer</text>\n</g>\n<!-- database&#45;ea8947&#45;f7 -->\n<g id=\"node3\" class=\"node\">\n<title>database&#45;ea8947&#45;f7</title>\n<path fill=\"none\" stroke=\"black\" d=\"M135.75,-32.27C135.75,-34.08 123.65,-35.54 108.75,-35.54 93.85,-35.54 81.75,-34.08 81.75,-32.27 81.75,-32.27 81.75,-2.82 81.75,-2.82 81.75,-1.01 93.85,0.46 108.75,0.46 123.65,0.46 135.75,-1.01 135.75,-2.82 135.75,-2.82 135.75,-32.27 135.75,-32.27\"/>\n<path fill=\"none\" stroke=\"black\" d=\"M135.75,-32.27C135.75,-30.47 123.65,-29 108.75,-29 93.85,-29 81.75,-30.47 81.75,-32.27\"/>\n<text text-anchor=\"middle\" x=\"108.75\" y=\"-14.44\" font-family=\"Arial\" font-size=\"12.00\">Database</text>\n</g>\n<!-- user&#45;0&#45;f2&#45;f9240&#45;&gt;web&#45;server&#45;83&#45;b6&#45;abfd -->\n<g id=\"edge1\" class=\"edge\">\n<title>user&#45;0&#45;f2&#45;f9240&#45;&gt;web&#45;server&#45;83&#45;b6&#45;abfd</title>\n<path fill=\"none\" stroke=\"black\" d=\"M53.41,-149.17C56.66,-146.87 60.02,-144.5 63.37,-142.14\"/>\n<polygon fill=\"black\" stroke=\"black\" points=\"64.29,-143.63 67.36,-139.31 62.27,-140.77 64.29,-143.63\"/>\n<text text-anchor=\"middle\" x=\"37.39\" y=\"-139.25\" font-family=\"Arial\" font-size=\"8.00\">https: Login</text>\n</g>\n<!-- web&#45;server&#45;83&#45;b6&#45;abfd&#45;&gt;database&#45;ea8947&#45;f7 -->\n<g id=\"edge2\" class=\"edge\">\n<title>web&#45;server&#45;83&#45;b6&#45;abfd&#45;&gt;database&#45;ea8947&#45;f7</title>\n<path fill=\"none\" stroke=\"black\" d=\"M101.16,-83.33C102.73,-69.78 104.48,-54.58 105.9,-42.21\"/>\n<polygon fill=\"black\" stroke=\"black\" points=\"107.61,-42.7 106.44,-37.53 104.13,-42.3 107.61,-42.7\"/>\n<text text-anchor=\"middle\" x=\"74.53\" y=\"-65.37\" font-family=\"Arial\" font-size=\"8.00\">sql: Authenticate</text>\n</g>\n</g>\n</svg>\n",
      "text/plain": [
       "<tmac.diagram.DataFlowDiagram at 0x107effb10>"
      ]
     },
     "metadata": {},
     "output_type": "display_data"
    }
   ],
   "source": [
    "model.data_flow_diagram()\n"
   ]
  }
 ],
 "metadata": {
  "kernelspec": {
   "display_name": "threatmodel-7Qgubwkr-py3.11",
   "language": "python",
   "name": "python3"
  },
  "language_info": {
   "codemirror_mode": {
    "name": "ipython",
    "version": 3
   },
   "file_extension": ".py",
   "mimetype": "text/x-python",
   "name": "python",
   "nbconvert_exporter": "python",
   "pygments_lexer": "ipython3",
   "version": "3.11.1"
  },
  "orig_nbformat": 4,
  "vscode": {
   "interpreter": {
    "hash": "b1021964673c2f3d1be309d78828284778e445ac38f4d2a903a3eb53dcb1641d"
   }
  }
 },
 "nbformat": 4,
 "nbformat_minor": 2
}
