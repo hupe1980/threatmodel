{
 "cells": [
  {
   "cell_type": "code",
   "execution_count": 9,
   "metadata": {},
   "outputs": [],
   "source": [
    "import os\n",
    "import sys\n",
    "\n",
    "sys.path.insert(0, os.path.abspath(os.path.join(os.path.abspath(''), '..')))"
   ]
  },
  {
   "cell_type": "code",
   "execution_count": 10,
   "metadata": {},
   "outputs": [],
   "source": [
    "import threatmodel as tm"
   ]
  },
  {
   "cell_type": "code",
   "execution_count": 11,
   "metadata": {},
   "outputs": [],
   "source": [
    "model = tm.Model(\"Demo Model\")\n",
    "\n",
    "pii = tm.Data(\"PII\")"
   ]
  },
  {
   "cell_type": "code",
   "execution_count": 12,
   "metadata": {},
   "outputs": [],
   "source": [
    "server = tm.Process(\n",
    "    model,\n",
    "    \"Server\",\n",
    "    machine=tm.Machine.VIRTUAL,\n",
    "    technology=tm.Technology.WEB_SERVER,\n",
    "    environment_variables=True,\n",
    ")\n",
    "\n",
    "server.processes(pii)"
   ]
  },
  {
   "cell_type": "code",
   "execution_count": 13,
   "metadata": {},
   "outputs": [],
   "source": [
    "database = tm.DataStore(\n",
    "    model,\n",
    "    \"Database\",\n",
    "    machine=tm.Machine.VIRTUAL,\n",
    "    technology=tm.Technology.DATABASE,\n",
    "    environment_variables=False,\n",
    ")\n",
    "\n",
    "database.stores(pii)"
   ]
  },
  {
   "cell_type": "code",
   "execution_count": 14,
   "metadata": {},
   "outputs": [],
   "source": [
    "crud = tm.DataFlow(\n",
    "    model,\n",
    "    \"CRUD\",\n",
    "    server,\n",
    "    database,\n",
    "    protocol=tm.Protocol.SQL_ACCESS_PROTOCOL\n",
    ")\n",
    "\n",
    "crud.sends(pii)\n",
    "crud.receives(pii)"
   ]
  },
  {
   "cell_type": "code",
   "execution_count": 15,
   "metadata": {},
   "outputs": [
    {
     "name": "stdout",
     "output_type": "stream",
     "text": [
      "ID                Serverity    Name                                       Affected    Mitigation\n",
      "----------------  -----------  -----------------------------------------  ----------  ------------\n",
      "CAPEC-10@Server   high         Buffer Overflow via Environment Variables  Server      none\n",
      "CAPEC-100@Server  high         Overflow Buffers                           Server      none\n"
     ]
    }
   ],
   "source": [
    "result = model.evaluate()\n",
    "\n",
    "print(result.risks_table())"
   ]
  }
 ],
 "metadata": {
  "kernelspec": {
   "display_name": ".venv",
   "language": "python",
   "name": "python3"
  },
  "language_info": {
   "codemirror_mode": {
    "name": "ipython",
    "version": 3
   },
   "file_extension": ".py",
   "mimetype": "text/x-python",
   "name": "python",
   "nbconvert_exporter": "python",
   "pygments_lexer": "ipython3",
   "version": "3.10.9"
  },
  "orig_nbformat": 4,
  "vscode": {
   "interpreter": {
    "hash": "c789a8413cac1a531e001c4f39271cee306d8569d2a93fa67c86585ca2dbb66a"
   }
  }
 },
 "nbformat": 4,
 "nbformat_minor": 2
}
