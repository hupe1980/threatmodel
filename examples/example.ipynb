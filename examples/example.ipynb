{
 "cells": [
  {
   "cell_type": "code",
   "execution_count": 33,
   "metadata": {},
   "outputs": [],
   "source": [
    "import os\n",
    "import sys\n",
    "\n",
    "sys.path.insert(0, os.path.abspath(os.path.join(os.path.abspath(''), '..')))"
   ]
  },
  {
   "cell_type": "code",
   "execution_count": 34,
   "metadata": {},
   "outputs": [],
   "source": [
    "import threatmodel as tm\n",
    "import threatmodel.plus as tm_plus"
   ]
  },
  {
   "cell_type": "code",
   "execution_count": 35,
   "metadata": {},
   "outputs": [],
   "source": [
    "model = tm.Model(\"REST Login Model\")"
   ]
  },
  {
   "attachments": {},
   "cell_type": "markdown",
   "metadata": {},
   "source": [
    "> Users must log in to the website before they can carry out any of the use cases."
   ]
  },
  {
   "cell_type": "code",
   "execution_count": 36,
   "metadata": {},
   "outputs": [],
   "source": [
    "user = tm_plus.Browser(model, \"User\")"
   ]
  },
  {
   "cell_type": "code",
   "execution_count": 37,
   "metadata": {},
   "outputs": [],
   "source": [
    "login_process = tm.Process(\n",
    "    model,\n",
    "    \"WebApi\",\n",
    "    machine=tm.Machine.VIRTUAL,\n",
    "    technology=tm.Technology.WEB_SERVICE_REST,\n",
    ")\n",
    "\n",
    "login = tm.DataFlow(\n",
    "    model,\n",
    "    \"Login\",\n",
    "    user,\n",
    "    login_process,\n",
    "    protocol=tm.Protocol.HTTPS,\n",
    ")\n",
    "\n",
    "login.sends(tm.Data(\"LoginRequest\"))\n",
    "login.receives(tm.Data(\"LoginResponse\"))"
   ]
  },
  {
   "cell_type": "code",
   "execution_count": 38,
   "metadata": {},
   "outputs": [],
   "source": [
    "database = tm.DataStore(\n",
    "    model,\n",
    "    \"Database\",\n",
    "    machine=tm.Machine.VIRTUAL,\n",
    "    technology=tm.Technology.DATABASE,\n",
    ")\n",
    "\n",
    "authenticate= tm.DataFlow(\n",
    "    model,\n",
    "    \"Authenticate\",\n",
    "    login_process,\n",
    "    database ,\n",
    "    protocol=tm.Protocol.SQL_ACCESS_PROTOCOL,\n",
    ")\n",
    "\n",
    "authenticate.sends(tm.Data(\"AuthenticateUserQuery\"))\n",
    "authenticate.receives(tm.Data(\"AuthenticateUserQueryResult\"))"
   ]
  },
  {
   "cell_type": "code",
   "execution_count": 39,
   "metadata": {},
   "outputs": [
    {
     "name": "stdout",
     "output_type": "stream",
     "text": [
      "SID               Serverity    Category                    Name              Affected    Treatment\n",
      "----------------  -----------  --------------------------  ----------------  ----------  -----------\n",
      "CAPEC-100@WebApi  high         Manipulate Data Structures  Overflow Buffers  WebApi      unchecked\n"
     ]
    }
   ],
   "source": [
    "result = model.evaluate()\n",
    "\n",
    "print(result.risks_table())"
   ]
  },
  {
   "attachments": {},
   "cell_type": "markdown",
   "metadata": {},
   "source": [
    "> After many long meetings, we decided to accept one risk"
   ]
  },
  {
   "cell_type": "code",
   "execution_count": 40,
   "metadata": {},
   "outputs": [
    {
     "name": "stdout",
     "output_type": "stream",
     "text": [
      "SID               Serverity    Category                    Name              Affected    Treatment\n",
      "----------------  -----------  --------------------------  ----------------  ----------  -----------\n",
      "CAPEC-100@WebApi  high         Manipulate Data Structures  Overflow Buffers  WebApi      accepted\n"
     ]
    }
   ],
   "source": [
    "result.treat_risk(\"CAPEC-100@WebApi\", tm.Treatment.ACCEPTED)\n",
    "\n",
    "print(result.risks_table())"
   ]
  }
 ],
 "metadata": {
  "kernelspec": {
   "display_name": ".venv",
   "language": "python",
   "name": "python3"
  },
  "language_info": {
   "codemirror_mode": {
    "name": "ipython",
    "version": 3
   },
   "file_extension": ".py",
   "mimetype": "text/x-python",
   "name": "python",
   "nbconvert_exporter": "python",
   "pygments_lexer": "ipython3",
   "version": "3.10.9 (main, Dec 15 2022, 10:44:50) [Clang 14.0.0 (clang-1400.0.29.202)]"
  },
  "orig_nbformat": 4,
  "vscode": {
   "interpreter": {
    "hash": "c789a8413cac1a531e001c4f39271cee306d8569d2a93fa67c86585ca2dbb66a"
   }
  }
 },
 "nbformat": 4,
 "nbformat_minor": 2
}
