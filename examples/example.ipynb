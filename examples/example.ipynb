{
 "cells": [
  {
   "cell_type": "code",
   "execution_count": 1,
   "metadata": {},
   "outputs": [],
   "source": [
    "import os\n",
    "import sys\n",
    "\n",
    "sys.path.insert(0, os.path.abspath(os.path.join(os.path.abspath(\"\"), \"..\")))\n"
   ]
  },
  {
   "cell_type": "code",
   "execution_count": 2,
   "metadata": {},
   "outputs": [],
   "source": [
    "from tmac import (\n",
    "    Asset,\n",
    "    DataFlow,\n",
    "    Machine,\n",
    "    Model,\n",
    "    Process,\n",
    "    Protocol,\n",
    "    Score,\n",
    "    TableFormat,\n",
    "    Technology,\n",
    ")  # noqa: E402\n",
    "from tmac.plus import Browser, Database  # noqa: E402\n"
   ]
  },
  {
   "attachments": {},
   "cell_type": "markdown",
   "metadata": {},
   "source": [
    "> Users must log in to the website before they can carry out any of the use cases."
   ]
  },
  {
   "cell_type": "code",
   "execution_count": 3,
   "metadata": {},
   "outputs": [],
   "source": [
    "model = Model(\"Login Model\")\n",
    "user = Browser(model, \"User\")\n"
   ]
  },
  {
   "cell_type": "code",
   "execution_count": 4,
   "metadata": {},
   "outputs": [
    {
     "data": {
      "text/plain": [
       "<tmac.asset.Asset at 0x103cb3c50>"
      ]
     },
     "execution_count": 4,
     "metadata": {},
     "output_type": "execute_result"
    }
   ],
   "source": [
    "web_server = Process(\n",
    "    model,\n",
    "    \"WebServer\",\n",
    "    machine=Machine.VIRTUAL,\n",
    "    technology=Technology.WEB_APPLICATION,\n",
    ")\n",
    "\n",
    "login = DataFlow(\n",
    "    model,\n",
    "    \"Login\",\n",
    "    source=user,\n",
    "    destination=web_server,\n",
    "    protocol=Protocol.HTTPS,\n",
    ")\n",
    "\n",
    "login.transfers(\n",
    "    \"UserCredentials\",\n",
    "    confidentiality=Score.HIGH,\n",
    "    integrity=Score.HIGH,\n",
    "    availability=Score.HIGH,\n",
    ")\n"
   ]
  },
  {
   "cell_type": "code",
   "execution_count": 5,
   "metadata": {},
   "outputs": [
    {
     "data": {
      "text/plain": [
       "<tmac.asset.Asset at 0x1042eb410>"
      ]
     },
     "execution_count": 5,
     "metadata": {},
     "output_type": "execute_result"
    }
   ],
   "source": [
    "database = Database(\n",
    "    model,\n",
    "    \"Database\",\n",
    "    machine=Machine.VIRTUAL,\n",
    ")\n",
    "\n",
    "authenticate = DataFlow(\n",
    "    model,\n",
    "    \"Authenticate\",\n",
    "    source=web_server,\n",
    "    destination=database,\n",
    "    protocol=Protocol.SQL,\n",
    ")\n",
    "\n",
    "user_details = Asset(\n",
    "    model,\n",
    "    \"UserDetails\",\n",
    "    confidentiality=Score.HIGH,\n",
    "    integrity=Score.HIGH,\n",
    "    availability=Score.HIGH,\n",
    ")\n",
    "\n",
    "authenticate.transfers(user_details)\n"
   ]
  },
  {
   "cell_type": "code",
   "execution_count": 6,
   "metadata": {},
   "outputs": [
    {
     "name": "stdout",
     "output_type": "stream",
     "text": [
      "SID                  Severity    Category                    Threat                               Affected    Treatment\n",
      "-------------------  ----------  --------------------------  -----------------------------------  ----------  -----------\n",
      "CAPEC-63@WebServer   elevated    Inject Unexpected Items     Cross-Site Scripting (XSS)           WebServer   unchecked\n",
      "CAPEC-100@WebServer  high        Manipulate Data Structures  Overflow Buffers                     WebServer   unchecked\n",
      "CAPEC-101@WebServer  elevated    Inject Unexpected Items     Server Side Include (SSI) Injection  WebServer   unchecked\n",
      "CAPEC-62@WebServer   elevated    Subvert Access Control      Cross Site Request Forgery           WebServer   unchecked\n",
      "CAPEC-66@WebServer   elevated    Inject Unexpected Items     SQL Injection                        WebServer   unchecked\n"
     ]
    }
   ],
   "source": [
    "print(model.risks_table())\n"
   ]
  },
  {
   "attachments": {},
   "cell_type": "markdown",
   "metadata": {},
   "source": [
    "> Is there a suitable mitigation?"
   ]
  },
  {
   "cell_type": "code",
   "execution_count": 7,
   "metadata": {},
   "outputs": [
    {
     "name": "stdout",
     "output_type": "stream",
     "text": [
      "CAPEC-63: Cross-Site Scripting (XSS)\n",
      "\n",
      "Description:\n",
      "An adversary embeds malicious scripts in content that will be served to web browsers. The goal of the attack is for the target software, the client-side browser, to execute the script with the users' privilege level. An attack of this type exploits a programs' vulnerabilities that are brought on by allowing remote hosts to execute code and scripts. Web browsers, for example, have some simple security controls in place, but if a remote attacker is allowed to execute scripts (through injecting them in to user-generated content like bulletin boards) then these controls may be bypassed. Further, these attacks are very difficult for an end user to detect.\n",
      "\n",
      "Prerequisites:\n",
      "- Target client software must be a client that allows scripting communication from remote hosts, such as a JavaScript-enabled Web Browser.\n",
      "\n",
      "Mitigations:\n",
      "- Design: Use browser technologies that do not allow client side scripting.\n",
      "- Design: Utilize strict type, character, and encoding enforcement.\n",
      "- Design: Server side developers should not proxy content via XHR or other means, if a http proxy for remote content is setup on the server side, the client's browser has no way of discerning where the data is originating from.\n",
      "- Implementation: Ensure all content that is delivered to client is sanitized against an acceptable content specification.\n",
      "- Implementation: Perform input validation for all remote content.\n",
      "- Implementation: Perform output validation for all remote content.\n",
      "- Implementation: Session tokens for specific host.\n",
      "- Implementation: Patching software. There are many attack vectors for XSS on the client side and the server side. Many vulnerabilities are fixed in service packs for browser, web servers, and plug in technologies, staying current on patch release that deal with XSS countermeasures mitigates this.\n",
      "\n"
     ]
    }
   ],
   "source": [
    "print(model.get_threat_by_id(\"CAPEC-63\"))\n"
   ]
  },
  {
   "attachments": {},
   "cell_type": "markdown",
   "metadata": {},
   "source": [
    "> Can we mitigate the risk?"
   ]
  },
  {
   "cell_type": "code",
   "execution_count": 8,
   "metadata": {},
   "outputs": [
    {
     "data": {
      "text/plain": [
       "<tmac.mitigation.Mitigation at 0x10430af10>"
      ]
     },
     "execution_count": 8,
     "metadata": {},
     "output_type": "execute_result"
    }
   ],
   "source": [
    "model.mitigate_risk(\"CAPEC-63@WebServer\", name=\"InputValidation\", risk_reduction=80)\n",
    "model.mitigate_risk(\"CAPEC-63@WebServer\", name=\"InputSanitizing\", risk_reduction=80)\n"
   ]
  },
  {
   "attachments": {},
   "cell_type": "markdown",
   "metadata": {},
   "source": [
    "> After many long meetings, we decided to accept a risk :)"
   ]
  },
  {
   "cell_type": "code",
   "execution_count": 9,
   "metadata": {},
   "outputs": [
    {
     "name": "stdout",
     "output_type": "stream",
     "text": [
      "SID                  Severity    Category                    Threat                               Affected    Treatment\n",
      "-------------------  ----------  --------------------------  -----------------------------------  ----------  -----------\n",
      "CAPEC-63@WebServer   elevated    Inject Unexpected Items     Cross-Site Scripting (XSS)           WebServer   mitigated\n",
      "CAPEC-100@WebServer  high        Manipulate Data Structures  Overflow Buffers                     WebServer   accepted\n",
      "CAPEC-101@WebServer  elevated    Inject Unexpected Items     Server Side Include (SSI) Injection  WebServer   unchecked\n",
      "CAPEC-62@WebServer   elevated    Subvert Access Control      Cross Site Request Forgery           WebServer   unchecked\n",
      "CAPEC-66@WebServer   elevated    Inject Unexpected Items     SQL Injection                        WebServer   unchecked\n"
     ]
    }
   ],
   "source": [
    "model.accept_risk(\"CAPEC-100@WebServer\")\n",
    "\n",
    "print(model.risks_table())\n"
   ]
  },
  {
   "cell_type": "code",
   "execution_count": 10,
   "metadata": {},
   "outputs": [
    {
     "name": "stderr",
     "output_type": "stream",
     "text": [
      "Warning: Orthogonal edges do not currently handle edge labels. Try using xlabels.\n"
     ]
    },
    {
     "data": {
      "image/png": "[encoded data removed]",
      "text/plain": [
       "<diagrams.Diagram at 0x10b82be10>"
      ]
     },
     "metadata": {},
     "output_type": "display_data"
    }
   ],
   "source": [
    "model.data_flow_diagram()\n"
   ]
  }
 ],
 "metadata": {
  "kernelspec": {
   "display_name": "tmac-4til2r-3-py3.11",
   "language": "python",
   "name": "python3"
  },
  "language_info": {
   "codemirror_mode": {
    "name": "ipython",
    "version": 3
   },
   "file_extension": ".py",
   "mimetype": "text/x-python",
   "name": "python",
   "nbconvert_exporter": "python",
   "pygments_lexer": "ipython3",
   "version": "3.11.1"
  },
  "orig_nbformat": 4,
  "vscode": {
   "interpreter": {
    "hash": "6199eb8b9a41ffe137bfa6a40a343222494632bfe2374eb6ab4970ae19337241"
   }
  }
 },
 "nbformat": 4,
 "nbformat_minor": 2
}
