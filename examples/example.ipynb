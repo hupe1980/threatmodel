{
 "cells": [
  {
   "cell_type": "code",
   "execution_count": 1,
   "metadata": {},
   "outputs": [],
   "source": [
    "import os\n",
    "import sys\n",
    "\n",
    "sys.path.insert(0, os.path.abspath(os.path.join(os.path.abspath(''), '..')))"
   ]
  },
  {
   "cell_type": "code",
   "execution_count": 2,
   "metadata": {},
   "outputs": [],
   "source": [
    "import threatmodel as tm\n",
    "import threatmodel.plus as tm_plus"
   ]
  },
  {
   "attachments": {},
   "cell_type": "markdown",
   "metadata": {},
   "source": [
    "> Users must log in to the website before they can carry out any of the use cases."
   ]
  },
  {
   "cell_type": "code",
   "execution_count": 3,
   "metadata": {},
   "outputs": [],
   "source": [
    "model = tm.Model(\"REST Login Model\")\n",
    "user = tm_plus.Browser(model, \"User\")"
   ]
  },
  {
   "cell_type": "code",
   "execution_count": 4,
   "metadata": {},
   "outputs": [],
   "source": [
    "web_api = tm.Process(\n",
    "    model,\n",
    "    \"WebApi\",\n",
    "    machine=tm.Machine.VIRTUAL,\n",
    "    technology=tm.Technology.WEB_SERVICE_REST,\n",
    ")\n",
    "\n",
    "login = tm.DataFlow(\n",
    "    model,\n",
    "    \"Login\",\n",
    "    user,\n",
    "    web_api,\n",
    "    protocol=tm.Protocol.HTTPS,\n",
    ")\n",
    "\n",
    "login.sends(tm.Data(\"LoginRequest\"))\n",
    "login.receives(tm.Data(\"LoginResponse\"))"
   ]
  },
  {
   "cell_type": "code",
   "execution_count": 5,
   "metadata": {},
   "outputs": [],
   "source": [
    "database = tm.DataStore(\n",
    "    model,\n",
    "    \"Database\",\n",
    "    machine=tm.Machine.VIRTUAL,\n",
    "    technology=tm.Technology.DATABASE,\n",
    ")\n",
    "\n",
    "authenticate= tm.DataFlow(\n",
    "    model,\n",
    "    \"Authenticate\",\n",
    "    web_api,\n",
    "    database ,\n",
    "    protocol=tm.Protocol.SQL,\n",
    ")\n",
    "\n",
    "authenticate.sends(tm.Data(\"AuthenticateUserQuery\"))\n",
    "authenticate.receives(tm.Data(\"AuthenticateUserQueryResult\"))"
   ]
  },
  {
   "cell_type": "code",
   "execution_count": 6,
   "metadata": {},
   "outputs": [
    {
     "name": "stdout",
     "output_type": "stream",
     "text": [
      "SID               Severity    Category                    Name              Affected    Treatment\n",
      "----------------  ----------  --------------------------  ----------------  ----------  -----------\n",
      "CAPEC-100@WebApi  high        Manipulate Data Structures  Overflow Buffers  WebApi      unchecked\n",
      "CAPEC-66@WebApi   elevated    Inject Unexpected Items     SQL Injection     WebApi      unchecked\n"
     ]
    }
   ],
   "source": [
    "result = model.evaluate()\n",
    "\n",
    "print(result.risks_table())"
   ]
  },
  {
   "attachments": {},
   "cell_type": "markdown",
   "metadata": {},
   "source": [
    "> Is there a suitable mitigation?"
   ]
  },
  {
   "cell_type": "code",
   "execution_count": 7,
   "metadata": {},
   "outputs": [
    {
     "name": "stdout",
     "output_type": "stream",
     "text": [
      "CAPEC-100: Overflow Buffers\n",
      "\n",
      "Description:\n",
      "Buffer Overflow attacks target improper or missing bounds checking on buffer operations, typically triggered by input injected by an adversary. As a consequence, an adversary is able to write past the boundaries of allocated buffer regions in memory, causing a program crash or potentially redirection of execution as per the adversaries' choice.\n",
      "\n",
      "Prerequisites:\n",
      "- Targeted software performs buffer operations.\n",
      "- Targeted software inadequately performs bounds-checking on buffer operations.\n",
      "- Adversary has the capability to influence the input to buffer operations.\n",
      "\n",
      "Mitigations:\n",
      "- Use a language or compiler that performs automatic bounds checking.\n",
      "- Use secure functions not vulnerable to buffer overflow.\n",
      "- If you have to use dangerous functions, make sure that you do boundary checking.\n",
      "- Compiler-based canary mechanisms such as StackGuard, ProPolice and the Microsoft Visual Studio /GS flag. Unless this provides automatic bounds checking, it is not a complete solution.\n",
      "- Use OS-level preventative functionality. Not a complete solution.\n",
      "- Utilize static source code analysis tools to identify potential buffer overflow weaknesses in the software.\n",
      "\n"
     ]
    }
   ],
   "source": [
    "print(result.get_threat_by_id(\"CAPEC-100\"))"
   ]
  },
  {
   "attachments": {},
   "cell_type": "markdown",
   "metadata": {},
   "source": [
    "> Is there a suitable security control?"
   ]
  },
  {
   "cell_type": "code",
   "execution_count": 8,
   "metadata": {},
   "outputs": [
    {
     "data": {
      "text/plain": [
       "['BOUNDS_CHECKING: Bounds Checking',\n",
       " 'INPUT_SANITIZING: Input Sanitizing',\n",
       " 'INPUT_VALIDATION: Input Validation',\n",
       " 'PARAMETERIZATION: Parameterization',\n",
       " 'AVOID_SERVER_SIDE_INCLUDES: Avoid Server-Side Includes (SSI)',\n",
       " 'AVOID_USING_COMMAND_INTERPRETERS: Avoid Using Command Interpreters',\n",
       " 'WAF: waf']"
      ]
     },
     "execution_count": 8,
     "metadata": {},
     "output_type": "execute_result"
    }
   ],
   "source": [
    "tm.Control.list"
   ]
  },
  {
   "attachments": {},
   "cell_type": "markdown",
   "metadata": {},
   "source": [
    "> After many long meetings, we decided to accept the risk :)"
   ]
  },
  {
   "cell_type": "code",
   "execution_count": 9,
   "metadata": {},
   "outputs": [
    {
     "name": "stdout",
     "output_type": "stream",
     "text": [
      "SID               Severity    Category                    Name              Affected    Treatment\n",
      "----------------  ----------  --------------------------  ----------------  ----------  -----------\n",
      "CAPEC-100@WebApi  high        Manipulate Data Structures  Overflow Buffers  WebApi      accepted\n",
      "CAPEC-66@WebApi   elevated    Inject Unexpected Items     SQL Injection     WebApi      unchecked\n"
     ]
    }
   ],
   "source": [
    "result.treat_risk(\"CAPEC-100@WebApi\", tm.Treatment.ACCEPTED)\n",
    "\n",
    "print(result.risks_table())"
   ]
  },
  {
   "cell_type": "code",
   "execution_count": 10,
   "metadata": {},
   "outputs": [
    {
     "data": {
      "image/svg+xml": "<?xml version=\"1.0\" encoding=\"UTF-8\" standalone=\"no\"?>\n<!DOCTYPE svg PUBLIC \"-//W3C//DTD SVG 1.1//EN\"\n \"http://www.w3.org/Graphics/SVG/1.1/DTD/svg11.dtd\">\n<!-- Generated by graphviz version 7.0.4 (20221203.1631)\n -->\n<!-- Title: REST Login Model Pages: 1 -->\n<svg width=\"132pt\" height=\"172pt\"\n viewBox=\"0.00 0.00 132.00 172.00\" xmlns=\"http://www.w3.org/2000/svg\" xmlns:xlink=\"http://www.w3.org/1999/xlink\">\n<g id=\"graph0\" class=\"graph\" transform=\"scale(1 1) rotate(0) translate(4 168)\">\n<title>REST Login Model</title>\n<polygon fill=\"white\" stroke=\"none\" points=\"-4,4 -4,-168 128,-168 128,4 -4,4\"/>\n<!-- User_2680a266 -->\n<g id=\"node1\" class=\"node\">\n<title>User_2680a266</title>\n<polygon fill=\"none\" stroke=\"black\" points=\"54.39,-164.17 0.39,-164.17 0.39,-128.17 54.39,-128.17 54.39,-164.17\"/>\n<text text-anchor=\"middle\" x=\"27.39\" y=\"-143.07\" font-family=\"Arial\" font-size=\"12.00\">User</text>\n</g>\n<!-- WebApi_fb93d192 -->\n<g id=\"node2\" class=\"node\">\n<title>WebApi_fb93d192</title>\n<ellipse fill=\"none\" stroke=\"black\" cx=\"87.15\" cy=\"-103.96\" rx=\"24.5\" ry=\"24.5\"/>\n<text text-anchor=\"middle\" x=\"87.15\" y=\"-100.86\" font-family=\"Arial\" font-size=\"12.00\">WebApi</text>\n</g>\n<!-- User_2680a266&#45;&gt;WebApi_fb93d192 -->\n<g id=\"edge1\" class=\"edge\">\n<title>User_2680a266&#45;&gt;WebApi_fb93d192</title>\n<path fill=\"none\" stroke=\"black\" d=\"M53.43,-127.78C56.26,-125.78 59.14,-123.75 61.96,-121.76\"/>\n<polygon fill=\"black\" stroke=\"black\" points=\"62.64,-123.42 65.71,-119.1 60.62,-120.56 62.64,-123.42\"/>\n<text text-anchor=\"middle\" x=\"36.69\" y=\"-118.37\" font-family=\"Arial\" font-size=\"8.00\">https: Login</text>\n</g>\n<!-- Database_c0afc68f -->\n<g id=\"node3\" class=\"node\">\n<title>Database_c0afc68f</title>\n<path fill=\"none\" stroke=\"black\" d=\"M124.11,-32.27C124.11,-34.07 112.01,-35.54 97.11,-35.54 82.21,-35.54 70.11,-34.07 70.11,-32.27 70.11,-32.27 70.11,-2.81 70.11,-2.81 70.11,-1.01 82.21,0.46 97.11,0.46 112.01,0.46 124.11,-1.01 124.11,-2.81 124.11,-2.81 124.11,-32.27 124.11,-32.27\"/>\n<path fill=\"none\" stroke=\"black\" d=\"M124.11,-32.27C124.11,-30.46 112.01,-28.99 97.11,-28.99 82.21,-28.99 70.11,-30.46 70.11,-32.27\"/>\n<text text-anchor=\"middle\" x=\"97.11\" y=\"-14.44\" font-family=\"Arial\" font-size=\"12.00\">Database</text>\n</g>\n<!-- WebApi_fb93d192&#45;&gt;Database_c0afc68f -->\n<g id=\"edge2\" class=\"edge\">\n<title>WebApi_fb93d192&#45;&gt;Database_c0afc68f</title>\n<path fill=\"none\" stroke=\"black\" d=\"M89.98,-79.42C91.33,-67.72 92.94,-53.75 94.29,-42.05\"/>\n<polygon fill=\"black\" stroke=\"black\" points=\"96,-42.48 94.83,-37.31 92.52,-42.08 96,-42.48\"/>\n<text text-anchor=\"middle\" x=\"63.13\" y=\"-63.34\" font-family=\"Arial\" font-size=\"8.00\">sql: Authenticate</text>\n</g>\n</g>\n</svg>\n",
      "text/plain": [
       "<threatmodel.diagram.DataFlowDiagram at 0x109095ae0>"
      ]
     },
     "metadata": {},
     "output_type": "display_data"
    }
   ],
   "source": [
    "result.data_flow_diagram()"
   ]
  }
 ],
 "metadata": {
  "kernelspec": {
   "display_name": ".venv",
   "language": "python",
   "name": "python3"
  },
  "language_info": {
   "codemirror_mode": {
    "name": "ipython",
    "version": 3
   },
   "file_extension": ".py",
   "mimetype": "text/x-python",
   "name": "python",
   "nbconvert_exporter": "python",
   "pygments_lexer": "ipython3",
   "version": "3.10.9"
  },
  "orig_nbformat": 4,
  "vscode": {
   "interpreter": {
    "hash": "c789a8413cac1a531e001c4f39271cee306d8569d2a93fa67c86585ca2dbb66a"
   }
  }
 },
 "nbformat": 4,
 "nbformat_minor": 2
}
