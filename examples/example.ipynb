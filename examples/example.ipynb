{
 "cells": [
  {
   "cell_type": "code",
   "execution_count": 17,
   "metadata": {},
   "outputs": [],
   "source": [
    "import os\n",
    "import sys\n",
    "\n",
    "sys.path.insert(0, os.path.abspath(os.path.join(os.path.abspath(''), '..')))"
   ]
  },
  {
   "cell_type": "code",
   "execution_count": 18,
   "metadata": {},
   "outputs": [],
   "source": [
    "import threatmodel as tm"
   ]
  },
  {
   "cell_type": "code",
   "execution_count": 19,
   "metadata": {},
   "outputs": [],
   "source": [
    "model = tm.Model(\"Demo Model\")\n",
    "\n",
    "pii = tm.Data(\"PII\")"
   ]
  },
  {
   "cell_type": "code",
   "execution_count": 20,
   "metadata": {},
   "outputs": [],
   "source": [
    "server = tm.Process(\n",
    "    model,\n",
    "    \"Server\",\n",
    "    machine=tm.Machine.VIRTUAL,\n",
    "    technology=tm.Technology.WEB_SERVER,\n",
    "    environment_variables=True,\n",
    ")\n",
    "\n",
    "server.processes(pii)"
   ]
  },
  {
   "cell_type": "code",
   "execution_count": 21,
   "metadata": {},
   "outputs": [],
   "source": [
    "database = tm.DataStore(\n",
    "    model,\n",
    "    \"Database\",\n",
    "    machine=tm.Machine.VIRTUAL,\n",
    "    technology=tm.Technology.DATABASE,\n",
    "    environment_variables=False,\n",
    ")\n",
    "\n",
    "database.stores(pii)"
   ]
  },
  {
   "cell_type": "code",
   "execution_count": 22,
   "metadata": {},
   "outputs": [],
   "source": [
    "crud = tm.DataFlow(\n",
    "    model,\n",
    "    \"CRUD\",\n",
    "    server,\n",
    "    database,\n",
    "    protocol=tm.Protocol.SQL_ACCESS_PROTOCOL\n",
    ")\n",
    "\n",
    "crud.sends(pii)\n",
    "crud.receives(pii)"
   ]
  },
  {
   "cell_type": "code",
   "execution_count": 23,
   "metadata": {},
   "outputs": [
    {
     "name": "stdout",
     "output_type": "stream",
     "text": [
      "SID               Serverity    Category                    Name                                       Affected    Mitigation\n",
      "----------------  -----------  --------------------------  -----------------------------------------  ----------  ------------\n",
      "CAPEC-10@Server   high         Manipulate Data Structures  Buffer Overflow via Environment Variables  Server      none\n",
      "CAPEC-100@Server  high         Manipulate Data Structures  Overflow Buffers                           Server      none\n",
      "CAPEC-101@Server  elevated     Inject Unexpected Items     Server Side Include (SSI) Injection        Server      none\n"
     ]
    }
   ],
   "source": [
    "result = model.evaluate()\n",
    "\n",
    "print(result.risks_table())"
   ]
  },
  {
   "attachments": {},
   "cell_type": "markdown",
   "metadata": {},
   "source": [
    "> After many long meetings, we decided to accept one risk"
   ]
  },
  {
   "cell_type": "code",
   "execution_count": 24,
   "metadata": {},
   "outputs": [
    {
     "name": "stdout",
     "output_type": "stream",
     "text": [
      "SID               Serverity    Category                    Name                                       Affected    Mitigation\n",
      "----------------  -----------  --------------------------  -----------------------------------------  ----------  ------------\n",
      "CAPEC-10@Server   high         Manipulate Data Structures  Buffer Overflow via Environment Variables  Server      accepted\n",
      "CAPEC-100@Server  high         Manipulate Data Structures  Overflow Buffers                           Server      none\n",
      "CAPEC-101@Server  elevated     Inject Unexpected Items     Server Side Include (SSI) Injection        Server      none\n"
     ]
    }
   ],
   "source": [
    "result.mitigate_risk(\"CAPEC-10@Server\", tm.Mitigation.ACCEPTED)\n",
    "\n",
    "print(result.risks_table())"
   ]
  }
 ],
 "metadata": {
  "kernelspec": {
   "display_name": ".venv",
   "language": "python",
   "name": "python3"
  },
  "language_info": {
   "codemirror_mode": {
    "name": "ipython",
    "version": 3
   },
   "file_extension": ".py",
   "mimetype": "text/x-python",
   "name": "python",
   "nbconvert_exporter": "python",
   "pygments_lexer": "ipython3",
   "version": "3.10.9"
  },
  "orig_nbformat": 4,
  "vscode": {
   "interpreter": {
    "hash": "c789a8413cac1a531e001c4f39271cee306d8569d2a93fa67c86585ca2dbb66a"
   }
  }
 },
 "nbformat": 4,
 "nbformat_minor": 2
}
