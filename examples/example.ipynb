{
 "cells": [
  {
   "cell_type": "code",
   "execution_count": 1,
   "metadata": {},
   "outputs": [],
   "source": [
    "import os\n",
    "import sys\n",
    "\n",
    "sys.path.insert(0, os.path.abspath(os.path.join(os.path.abspath(''), '..')))"
   ]
  },
  {
   "cell_type": "code",
   "execution_count": 2,
   "metadata": {},
   "outputs": [],
   "source": [
    "import threatmodel as tm\n",
    "import threatmodel.plus as tm_plus"
   ]
  },
  {
   "attachments": {},
   "cell_type": "markdown",
   "metadata": {},
   "source": [
    "> Users must log in to the website before they can carry out any of the use cases."
   ]
  },
  {
   "cell_type": "code",
   "execution_count": 3,
   "metadata": {},
   "outputs": [],
   "source": [
    "model = tm.Model(\"REST Login Model\")\n",
    "user = tm_plus.Browser(model, \"User\")"
   ]
  },
  {
   "cell_type": "code",
   "execution_count": 4,
   "metadata": {},
   "outputs": [],
   "source": [
    "web_api = tm.Process(\n",
    "    model,\n",
    "    \"WebApi\",\n",
    "    machine=tm.Machine.VIRTUAL,\n",
    "    technology=tm.Technology.WEB_SERVICE_REST,\n",
    ")\n",
    "\n",
    "login = tm.DataFlow(\n",
    "    model,\n",
    "    \"Login\",\n",
    "    user,\n",
    "    web_api,\n",
    "    protocol=tm.Protocol.HTTPS,\n",
    ")\n",
    "\n",
    "login.sends(tm.Data(\"LoginRequest\"))\n",
    "login.receives(tm.Data(\"LoginResponse\"))"
   ]
  },
  {
   "cell_type": "code",
   "execution_count": 5,
   "metadata": {},
   "outputs": [],
   "source": [
    "database = tm.DataStore(\n",
    "    model,\n",
    "    \"Database\",\n",
    "    machine=tm.Machine.VIRTUAL,\n",
    "    technology=tm.Technology.DATABASE,\n",
    ")\n",
    "\n",
    "authenticate= tm.DataFlow(\n",
    "    model,\n",
    "    \"Authenticate\",\n",
    "    web_api,\n",
    "    database ,\n",
    "    protocol=tm.Protocol.SQL_ACCESS_PROTOCOL,\n",
    ")\n",
    "\n",
    "authenticate.sends(tm.Data(\"AuthenticateUserQuery\"))\n",
    "authenticate.receives(tm.Data(\"AuthenticateUserQueryResult\"))"
   ]
  },
  {
   "cell_type": "code",
   "execution_count": 6,
   "metadata": {},
   "outputs": [
    {
     "name": "stdout",
     "output_type": "stream",
     "text": [
      "SID               Severity    Category                    Name              Affected    Treatment\n",
      "----------------  ----------  --------------------------  ----------------  ----------  -----------\n",
      "CAPEC-100@WebApi  high        Manipulate Data Structures  Overflow Buffers  WebApi      unchecked\n",
      "CAPEC-66@WebApi   elevated    Inject Unexpected Items     SQL Injection     WebApi      unchecked\n"
     ]
    }
   ],
   "source": [
    "result = model.evaluate()\n",
    "\n",
    "print(result.risks_table())"
   ]
  },
  {
   "attachments": {},
   "cell_type": "markdown",
   "metadata": {},
   "source": [
    "> Is there a suitable mitigation?"
   ]
  },
  {
   "cell_type": "code",
   "execution_count": 7,
   "metadata": {},
   "outputs": [
    {
     "name": "stdout",
     "output_type": "stream",
     "text": [
      "CAPEC-100: Overflow Buffers\n",
      "\n",
      "Description:\n",
      "Buffer Overflow attacks target improper or missing bounds checking on buffer operations, typically triggered by input injected by an adversary. As a consequence, an adversary is able to write past the boundaries of allocated buffer regions in memory, causing a program crash or potentially redirection of execution as per the adversaries' choice.\n",
      "\n",
      "Prerequisites:\n",
      "- Targeted software performs buffer operations.\n",
      "- Targeted software inadequately performs bounds-checking on buffer operations.\n",
      "- Adversary has the capability to influence the input to buffer operations.\n",
      "\n",
      "Mitigations:\n",
      "- Use a language or compiler that performs automatic bounds checking.\n",
      "- Use secure functions not vulnerable to buffer overflow.\n",
      "- If you have to use dangerous functions, make sure that you do boundary checking.\n",
      "- Compiler-based canary mechanisms such as StackGuard, ProPolice and the Microsoft Visual Studio /GS flag. Unless this provides automatic bounds checking, it is not a complete solution.\n",
      "- Use OS-level preventative functionality. Not a complete solution.\n",
      "- Utilize static source code analysis tools to identify potential buffer overflow weaknesses in the software.\n",
      "\n"
     ]
    }
   ],
   "source": [
    "print(result.get_threat_by_id(\"CAPEC-100\"))"
   ]
  },
  {
   "attachments": {},
   "cell_type": "markdown",
   "metadata": {},
   "source": [
    "> Is there a suitable security control?"
   ]
  },
  {
   "cell_type": "code",
   "execution_count": 8,
   "metadata": {},
   "outputs": [
    {
     "data": {
      "text/plain": [
       "['BOUNDS_CHECKING: Bounds Checking',\n",
       " 'INPUT_SANITIZING: Input Sanitizing',\n",
       " 'INPUT_VALIDATION: Input Validation',\n",
       " 'PARAMETERIZATION: Parameterization',\n",
       " 'AVOID_SERVER_SIDE_INCLUDES: Avoid Server-Side Includes (SSI)',\n",
       " 'AVOID_USING_COMMAND_INTERPRETERS: Avoid Using Command Interpreters',\n",
       " 'WAF: waf']"
      ]
     },
     "execution_count": 8,
     "metadata": {},
     "output_type": "execute_result"
    }
   ],
   "source": [
    "tm.Control.list"
   ]
  },
  {
   "attachments": {},
   "cell_type": "markdown",
   "metadata": {},
   "source": [
    "> After many long meetings, we decided to accept the risk :)"
   ]
  },
  {
   "cell_type": "code",
   "execution_count": 9,
   "metadata": {},
   "outputs": [
    {
     "name": "stdout",
     "output_type": "stream",
     "text": [
      "SID               Severity    Category                    Name              Affected    Treatment\n",
      "----------------  ----------  --------------------------  ----------------  ----------  -----------\n",
      "CAPEC-100@WebApi  high        Manipulate Data Structures  Overflow Buffers  WebApi      accepted\n",
      "CAPEC-66@WebApi   elevated    Inject Unexpected Items     SQL Injection     WebApi      unchecked\n"
     ]
    }
   ],
   "source": [
    "result.treat_risk(\"CAPEC-100@WebApi\", tm.Treatment.ACCEPTED)\n",
    "\n",
    "print(result.risks_table())"
   ]
  }
 ],
 "metadata": {
  "kernelspec": {
   "display_name": ".venv",
   "language": "python",
   "name": "python3"
  },
  "language_info": {
   "codemirror_mode": {
    "name": "ipython",
    "version": 3
   },
   "file_extension": ".py",
   "mimetype": "text/x-python",
   "name": "python",
   "nbconvert_exporter": "python",
   "pygments_lexer": "ipython3",
   "version": "3.10.9"
  },
  "orig_nbformat": 4,
  "vscode": {
   "interpreter": {
    "hash": "c789a8413cac1a531e001c4f39271cee306d8569d2a93fa67c86585ca2dbb66a"
   }
  }
 },
 "nbformat": 4,
 "nbformat_minor": 2
}
