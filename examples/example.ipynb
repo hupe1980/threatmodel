{
 "cells": [
  {
   "cell_type": "code",
   "execution_count": 4,
   "metadata": {},
   "outputs": [],
   "source": [
    "import os\n",
    "import sys\n",
    "\n",
    "sys.path.insert(0, os.path.abspath(os.path.join(os.path.abspath(''), '..')))"
   ]
  },
  {
   "cell_type": "code",
   "execution_count": 5,
   "metadata": {},
   "outputs": [],
   "source": [
    "from threatmodel import Model, Process, Machine, Data, DataStore"
   ]
  },
  {
   "cell_type": "code",
   "execution_count": 6,
   "metadata": {},
   "outputs": [],
   "source": [
    "model = Model(\"Demo Model\")\n",
    "\n",
    "pii = Data(\"PII\")"
   ]
  },
  {
   "cell_type": "code",
   "execution_count": 7,
   "metadata": {},
   "outputs": [],
   "source": [
    "server = Process(\n",
    "    model, \n",
    "    \"Server\", \n",
    "    machine=Machine.SERVERLESS,\n",
    "    environment_variables=True,\n",
    ")\n",
    "\n",
    "server.processes(pii)"
   ]
  },
  {
   "cell_type": "code",
   "execution_count": 8,
   "metadata": {},
   "outputs": [],
   "source": [
    "database = DataStore(\n",
    "    model,\n",
    "    \"Database\",\n",
    "    machine=Machine.SERVERLESS,\n",
    "    environment_variables=False, \n",
    ")\n",
    "\n",
    "database.stores(pii)"
   ]
  },
  {
   "cell_type": "code",
   "execution_count": 9,
   "metadata": {},
   "outputs": [
    {
     "name": "stdout",
     "output_type": "stream",
     "text": [
      "[<threatmodel.threatmodel.Risk object at 0x11e8cbee0>, <threatmodel.threatmodel.Risk object at 0x118497850>, <threatmodel.threatmodel.Risk object at 0x118496bf0>]\n"
     ]
    }
   ],
   "source": [
    "result = model.evaluate()\n",
    "\n",
    "print(result.risks)"
   ]
  }
 ],
 "metadata": {
  "kernelspec": {
   "display_name": ".venv",
   "language": "python",
   "name": "python3"
  },
  "language_info": {
   "codemirror_mode": {
    "name": "ipython",
    "version": 3
   },
   "file_extension": ".py",
   "mimetype": "text/x-python",
   "name": "python",
   "nbconvert_exporter": "python",
   "pygments_lexer": "ipython3",
   "version": "3.10.9"
  },
  "orig_nbformat": 4,
  "vscode": {
   "interpreter": {
    "hash": "c789a8413cac1a531e001c4f39271cee306d8569d2a93fa67c86585ca2dbb66a"
   }
  }
 },
 "nbformat": 4,
 "nbformat_minor": 2
}
